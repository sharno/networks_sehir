{
 "cells": [
  {
   "cell_type": "code",
   "execution_count": 1,
   "metadata": {
    "collapsed": false
   },
   "outputs": [],
   "source": [
    "import networkx as nx\n",
    "import network2\n",
    "import matplotlib.pyplot as plt\n",
    "\n",
    "%load_ext autoreload\n",
    "%autoreload 2"
   ]
  },
  {
   "cell_type": "markdown",
   "metadata": {},
   "source": []
  },
  {
   "cell_type": "code",
   "execution_count": 2,
   "metadata": {
    "collapsed": true
   },
   "outputs": [],
   "source": [
    "G = network2.SocialGraph()\n",
    "tmp = G.load_data(\"likes.json\", num_posts=None)"
   ]
  },
  {
   "cell_type": "markdown",
   "metadata": {},
   "source": [
    "# Testing data"
   ]
  },
  {
   "cell_type": "code",
   "execution_count": 8,
   "metadata": {
    "collapsed": false
   },
   "outputs": [
    {
     "data": {
      "text/plain": [
       "[(u'120064698011379_1031000830251090', 7555),\n",
       " (u'120064698011379_1003013176383189', 5848),\n",
       " (u'120064698011379_1027422743942232', 1250),\n",
       " (u'120064698011379_1024433697574470', 2940),\n",
       " (u'120064698011379_1016023605082146', 5748),\n",
       " (u'120064698011379_1071439332873906', 1002),\n",
       " (u'120064698011379_1003938112957362', 5947),\n",
       " (u'120064698011379_1060838970600609', 3569),\n",
       " (u'120064698011379_1042648282419678', 2042),\n",
       " (u'120064698011379_1050181558333017', 2544),\n",
       " (u'120064698011379_1034308036587036', 5160),\n",
       " (u'120064698011379_1012434382107735', 3340)]"
      ]
     },
     "execution_count": 8,
     "metadata": {},
     "output_type": "execute_result"
    }
   ],
   "source": [
    "[(post, len(likes)) for post, likes in G.data.items() if len(likes) > 1000]"
   ]
  },
  {
   "cell_type": "code",
   "execution_count": null,
   "metadata": {
    "collapsed": true
   },
   "outputs": [],
   "source": [
    "posts_graph = G.create_posts_graph()"
   ]
  },
  {
   "cell_type": "code",
   "execution_count": null,
   "metadata": {
    "collapsed": false
   },
   "outputs": [],
   "source": [
    "page_ranks = nx.pagerank(posts_graph)\n",
    "ranks = sorted([(y,x) for x,y in page_ranks.items()])\n",
    "print ranks[-10:]"
   ]
  },
  {
   "cell_type": "code",
   "execution_count": null,
   "metadata": {
    "collapsed": false
   },
   "outputs": [],
   "source": [
    "nx.info(posts_graph)"
   ]
  },
  {
   "cell_type": "code",
   "execution_count": null,
   "metadata": {
    "collapsed": true
   },
   "outputs": [],
   "source": [
    "plt.hist(nx.degree(posts_graph).values())\n",
    "plt.show()"
   ]
  },
  {
   "cell_type": "code",
   "execution_count": null,
   "metadata": {
    "collapsed": true
   },
   "outputs": [],
   "source": []
  },
  {
   "cell_type": "code",
   "execution_count": null,
   "metadata": {
    "collapsed": false
   },
   "outputs": [],
   "source": [
    "users_graph = G.create_users_graph(threshold=5)\n",
    "nx.info(users_graph)"
   ]
  },
  {
   "cell_type": "code",
   "execution_count": null,
   "metadata": {
    "collapsed": false
   },
   "outputs": [],
   "source": [
    "nx.info(users_graph)\n",
    "import matplotlib.pyplot as plt\n",
    "\n",
    "nx.draw(users_graph)\n",
    "plt.show()"
   ]
  },
  {
   "cell_type": "code",
   "execution_count": null,
   "metadata": {
    "collapsed": true
   },
   "outputs": [],
   "source": [
    "plt.hist(nx.degree(users_graph).values())\n",
    "plt.show()"
   ]
  },
  {
   "cell_type": "code",
   "execution_count": null,
   "metadata": {
    "collapsed": true
   },
   "outputs": [],
   "source": []
  },
  {
   "cell_type": "code",
   "execution_count": null,
   "metadata": {
    "collapsed": false
   },
   "outputs": [],
   "source": [
    "reload(network2)\n",
    "users_graph = G.create_users_weighted_graph()\n",
    "print nx.info(users_graph)"
   ]
  },
  {
   "cell_type": "code",
   "execution_count": null,
   "metadata": {
    "collapsed": false
   },
   "outputs": [],
   "source": [
    "[x for x in users_graph.edges(data=True) if x[2]['weight'] > 2]"
   ]
  },
  {
   "cell_type": "code",
   "execution_count": null,
   "metadata": {
    "collapsed": true
   },
   "outputs": [],
   "source": [
    "nx.write_edgelist(users_graph, \"weighted.edgelist\")"
   ]
  },
  {
   "cell_type": "markdown",
   "metadata": {},
   "source": [
    "# Load graph"
   ]
  },
  {
   "cell_type": "code",
   "execution_count": 3,
   "metadata": {
    "collapsed": false
   },
   "outputs": [],
   "source": [
    "G.users_graph = nx.read_edgelist(\"weighted.edgelist\")"
   ]
  },
  {
   "cell_type": "markdown",
   "metadata": {},
   "source": [
    "# Remove edges with 1 connection and separated nodes"
   ]
  },
  {
   "cell_type": "code",
   "execution_count": 14,
   "metadata": {
    "collapsed": false
   },
   "outputs": [],
   "source": [
    "edges_to_remove = [x for x in G.users_graph.edges(data=True) if x[2]['weight'] == 1]\n",
    "G.users_graph.remove_edges_from(edges_to_remove)"
   ]
  },
  {
   "cell_type": "code",
   "execution_count": 19,
   "metadata": {
    "collapsed": false
   },
   "outputs": [],
   "source": [
    "nodes_to_remove = [x for x in G.users_graph.nodes() if G.users_graph.degree(x) == 0]\n",
    "G.users_graph.remove_nodes_from(nodes_to_remove)"
   ]
  },
  {
   "cell_type": "code",
   "execution_count": 20,
   "metadata": {
    "collapsed": false
   },
   "outputs": [
    {
     "data": {
      "text/plain": [
       "'Name: \\nType: Graph\\nNumber of nodes: 4725\\nNumber of edges: 241233\\nAverage degree: 102.1092'"
      ]
     },
     "execution_count": 20,
     "metadata": {},
     "output_type": "execute_result"
    }
   ],
   "source": [
    "nx.info(G.users_graph)"
   ]
  },
  {
   "cell_type": "markdown",
   "metadata": {},
   "source": [
    "# Centralities and Pagerank"
   ]
  },
  {
   "cell_type": "code",
   "execution_count": null,
   "metadata": {
    "collapsed": false
   },
   "outputs": [
    {
     "name": "stdout",
     "output_type": "stream",
     "text": [
      "Calculating degree centralities ...\n",
      "Calculating closeness centralities ...\n",
      "Calculating betweenness centralities ..."
     ]
    }
   ],
   "source": [
    "G.calculate_users_centralities()"
   ]
  },
  {
   "cell_type": "code",
   "execution_count": null,
   "metadata": {
    "collapsed": true
   },
   "outputs": [],
   "source": [
    "print \"Top 10 highest degree centralities:\"\n",
    "top_degree = sorted(G.users_graph_data['degree_centrality'].items(), key=lambda x: x[1])[-10:]\n",
    "top_degree = [(G.users[x[0]], x[1]) for x in top_degree]\n",
    "for node in top_degree:\n",
    "    print \"    \", node[0], \": \", node[1]"
   ]
  },
  {
   "cell_type": "code",
   "execution_count": null,
   "metadata": {
    "collapsed": true
   },
   "outputs": [],
   "source": [
    "print \"Top 10 highest closeness centralities:\"\n",
    "top_closeness = sorted(G.users_graph_data['closeness_centrality'].items(), key=lambda x: x[1])[-10:]\n",
    "top_closeness = [(G.users[x[0]], x[1]) for x in top_closeness]\n",
    "for node in top_closeness:\n",
    "    print \"    \", node[0], \": \", node[1]"
   ]
  },
  {
   "cell_type": "code",
   "execution_count": null,
   "metadata": {
    "collapsed": true
   },
   "outputs": [],
   "source": [
    "print \"Top 10 highest betweenness centralities:\"\n",
    "top_betweenness = sorted(G.users_graph_data['betweenness_centrality'].items(), key=lambda x: x[1])[-10:]\n",
    "top_betweenness = [(G.users[x[0]], x[1]) for x in top_betweenness]\n",
    "for node in top_betweenness:\n",
    "    print \"    \", node[0], \": \", node[1]"
   ]
  },
  {
   "cell_type": "code",
   "execution_count": null,
   "metadata": {
    "collapsed": true
   },
   "outputs": [],
   "source": [
    "print \"Top 10 highest eigenvector centralities:\"\n",
    "top_eigenvector = sorted(G.users_graph_data['eigenvector_centrality'].items(), key=lambda x: x[1])[-10:]\n",
    "top_eigenvector = [(G.users[x[0]], x[1]) for x in top_eigenvector]\n",
    "for node in top_eigenvector:\n",
    "    print \"    \", node[0], \": \", node[1]"
   ]
  },
  {
   "cell_type": "code",
   "execution_count": null,
   "metadata": {
    "collapsed": true
   },
   "outputs": [],
   "source": [
    "print \"Top 10 highest pagerank:\"\n",
    "top_pagerank = sorted(G.users_graph_data['pagerank'].items(), key=lambda x: x[1])[-10:]\n",
    "top_pagerank = [(G.users[x[0]], x[1]) for x in top_pagerank]\n",
    "for node in top_pagerank:\n",
    "    print \"    \", node[0], \": \", node[1]"
   ]
  },
  {
   "cell_type": "code",
   "execution_count": 10,
   "metadata": {
    "collapsed": false,
    "scrolled": true
   },
   "outputs": [
    {
     "data": {
      "text/plain": [
       "[(u'1057278421005314', u'464091933791287', {'weight': 175}),\n",
       " (u'1057278421005314', u'978658882219620', {'weight': 200}),\n",
       " (u'1057278421005314', u'968406996574582', {'weight': 181}),\n",
       " (u'10207167522279394', u'931101056938705', {'weight': 287}),\n",
       " (u'978658882219620', u'968406996574582', {'weight': 154})]"
      ]
     },
     "execution_count": 10,
     "metadata": {},
     "output_type": "execute_result"
    }
   ],
   "source": [
    "[x for x in G.users_graph.edges(data=True) if x[2]['weight'] > 150]"
   ]
  },
  {
   "cell_type": "markdown",
   "metadata": {},
   "source": [
    "# Export graph"
   ]
  },
  {
   "cell_type": "code",
   "execution_count": null,
   "metadata": {
    "collapsed": true
   },
   "outputs": [],
   "source": [
    "nx.write_gml(users_graph, \"users_graph.gml\")"
   ]
  }
 ],
 "metadata": {
  "kernelspec": {
   "display_name": "Python 2",
   "language": "python",
   "name": "python2"
  },
  "language_info": {
   "codemirror_mode": {
    "name": "ipython",
    "version": 2
   },
   "file_extension": ".py",
   "mimetype": "text/x-python",
   "name": "python",
   "nbconvert_exporter": "python",
   "pygments_lexer": "ipython2",
   "version": "2.7.6"
  }
 },
 "nbformat": 4,
 "nbformat_minor": 0
}
